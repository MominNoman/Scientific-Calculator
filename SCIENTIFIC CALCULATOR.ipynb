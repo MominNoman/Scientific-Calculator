{
 "cells": [
  {
   "cell_type": "code",
   "execution_count": null,
   "id": "d7ad6df4",
   "metadata": {},
   "outputs": [
    {
     "name": "stdout",
     "output_type": "stream",
     "text": [
      "Simple Calculator!\n",
      "Select the Operation:\n",
      "1. Add\n",
      "2. Subtract\n",
      "3. Multiply\n",
      "4. Divide\n",
      "5. Power\n",
      "6. Square root\n"
     ]
    }
   ],
   "source": [
    "import math\n",
    "\n",
    "def add(a, b):\n",
    "    return a + b\n",
    "\n",
    "def subtract(a, b):\n",
    "    return a - b\n",
    "\n",
    "def multiply(a, b):\n",
    "    return a * b\n",
    "\n",
    "def divide(a, b):\n",
    "    return a / b\n",
    "\n",
    "def power(a, b):\n",
    "    return a ** b\n",
    "\n",
    "def square_root(a):\n",
    "    return math.sqrt(a)\n",
    "\n",
    "def calculate():\n",
    "    print(\"Simple Calculator!\")\n",
    "    print(\"Select the Operation:\")\n",
    "    print(\"1. Add\")\n",
    "    print(\"2. Subtract\")\n",
    "    print(\"3. Multiply\")\n",
    "    print(\"4. Divide\")\n",
    "    print(\"5. Power\")\n",
    "    print(\"6. Square root\")\n",
    "    \n",
    "    while True:\n",
    "        command = input(\"Enter the Operation (1-6): \")\n",
    "\n",
    "        if command == '1':\n",
    "            num1 = float(input(\"Enter first number: \"))\n",
    "            num2 = float(input(\"Enter second number: \"))\n",
    "            print(num1, \"+\", num2, \"=\", add(num1, num2))\n",
    "\n",
    "        elif command == '2':\n",
    "            num1 = float(input(\"Enter first number: \"))\n",
    "            num2 = float(input(\"Enter second number: \"))\n",
    "            print(num1, \"-\", num2, \"=\", subtract(num1, num2))\n",
    "\n",
    "        elif command == '3':\n",
    "            num1 = float(input(\"Enter first number: \"))\n",
    "            num2 = float(input(\"Enter second number: \"))\n",
    "            print(num1, \"*\", num2, \"=\", multiply(num1, num2))\n",
    "    \n",
    "        elif command == '4':\n",
    "            num1 = float(input(\"Enter first number: \"))\n",
    "            num2 = float(input(\"Enter second number: \"))\n",
    "            print(num1, \"/\", num2, \"=\", divide(num1, num2))\n",
    "\n",
    "        elif command == '5':\n",
    "            num1 = float(input(\"Enter Base number: \"))\n",
    "            num2 = float(input(\"Enter Power number: \"))\n",
    "            print(num1, \"^\", num2, \"=\", power(num1, num2))\n",
    "\n",
    "        elif command == '6':\n",
    "            num1 = float(input(\"Enter number: \"))\n",
    "            print(\"sqrt(\", num1, \")=\", square_root(num1))\n",
    "        \n",
    "        else:\n",
    "            print(\"Invalid Input\")\n",
    "calculate()"
   ]
  },
  {
   "cell_type": "code",
   "execution_count": null,
   "id": "cfa1bea4",
   "metadata": {},
   "outputs": [],
   "source": []
  }
 ],
 "metadata": {
  "kernelspec": {
   "display_name": "Python 3 (ipykernel)",
   "language": "python",
   "name": "python3"
  },
  "language_info": {
   "codemirror_mode": {
    "name": "ipython",
    "version": 3
   },
   "file_extension": ".py",
   "mimetype": "text/x-python",
   "name": "python",
   "nbconvert_exporter": "python",
   "pygments_lexer": "ipython3",
   "version": "3.9.13"
  }
 },
 "nbformat": 4,
 "nbformat_minor": 5
}
